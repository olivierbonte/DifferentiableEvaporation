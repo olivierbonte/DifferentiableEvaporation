{
 "cells": [
  {
   "cell_type": "code",
   "execution_count": 10,
   "id": "23338bcc",
   "metadata": {},
   "outputs": [],
   "source": [
    "using DrWatson\n",
    "@quickactivate \"DifferentiableEvaporation\"\n",
    "using Symbolics, Nemo"
   ]
  },
  {
   "cell_type": "markdown",
   "id": "58c3118d",
   "metadata": {},
   "source": [
    "The goal of the current notebook is to extend upon the derivations of a series network from:\n",
    "\n",
    "- \"Evaporation from sparse crops-an energy combination theory\" by [Shuttleworth and Wallace (1985)](https://doi.org/10.1002/qj.49711146910) (S&W85)\n",
    "- \"Evaporation from Heterogeneous and Sparse Canopies: On the Formulations Related to Multi-Source Representations\" by [Lhomme et al. (2012)](https://doi.org/10.1007/s10546-012-9713-x) (Lh12)\n",
    "\n",
    "Start by defining the different variables\n"
   ]
  },
  {
   "cell_type": "code",
   "execution_count": 11,
   "id": "d2c87549",
   "metadata": {},
   "outputs": [
    {
     "data": {
      "text/latex": [
       "$$ \\begin{equation}\n",
       "\\left[\n",
       "\\begin{array}{c}\n",
       "\\mathtt{As} \\\\\n",
       "\\mathtt{Ac} \\\\\n",
       "\\rho \\\\\n",
       "\\mathtt{cp} \\\\\n",
       "\\mathtt{Vpd\\_a} \\\\\n",
       "\\gamma \\\\\n",
       "\\Delta \\\\\n",
       "\\mathtt{r\\_aa} \\\\\n",
       "\\mathtt{r\\_ac} \\\\\n",
       "\\mathtt{r\\_as} \\\\\n",
       "\\mathtt{r\\_ss} \\\\\n",
       "\\mathtt{r\\_sc} \\\\\n",
       "\\mathtt{{\\lambda}E} \\\\\n",
       "\\mathtt{Ra} \\\\\n",
       "\\mathtt{Rs} \\\\\n",
       "\\mathtt{Rc} \\\\\n",
       "\\mathtt{f\\_wet} \\\\\n",
       "\\end{array}\n",
       "\\right]\n",
       "\\end{equation}\n",
       " $$"
      ],
      "text/plain": [
       "17-element Vector{Num}:\n",
       "    As\n",
       "    Ac\n",
       "     ρ\n",
       "    cp\n",
       " Vpd_a\n",
       "     γ\n",
       "     Δ\n",
       "  r_aa\n",
       "  r_ac\n",
       "  r_as\n",
       "  r_ss\n",
       "  r_sc\n",
       "    λE\n",
       "    Ra\n",
       "    Rs\n",
       "    Rc\n",
       " f_wet"
      ]
     },
     "metadata": {},
     "output_type": "display_data"
    }
   ],
   "source": [
    "@variables begin\n",
    "    As # Available energy at the surface (soil) (W/m²)\n",
    "    Ac # Available energy at the canopy (W/m²)\n",
    "    ρ # Density of air (kg/m³)\n",
    "    cp # Specific heat of air (J/kg/K)\n",
    "    Vpd_a # Vapor pressure deficit (Pa) at observation height\n",
    "    γ # Psychrometric constant (Pa/K)\n",
    "    Δ # Slope of the saturation vapor pressure curve (Pa/K) \n",
    "    r_aa # Aerodynamic resistance (s/m) between source height and observation height\n",
    "    r_ac # Aerodynamic resistance (s/m) between canopy and source height\n",
    "    r_as # Aerodynamic resistance (s/m) between soil and source height\n",
    "    r_ss # Surface resistance (s/m) of soil\n",
    "    r_sc # Surface resistance (s/m) of canopy\n",
    "    λE # Latent heat flux from the complete canopy (W/m²)\n",
    "    Ra\n",
    "    Rs\n",
    "    Rc\n",
    "    f_wet # Fraction of canopy that is wet (-)\n",
    "end"
   ]
  },
  {
   "cell_type": "markdown",
   "id": "d13a7abf",
   "metadata": {},
   "source": [
    "## Reference case from Lhomme et al. (2012)\n",
    "\n",
    "Let's symbolically solve the equations governing the standard case of a two source model, as depicted in Figure 1 of Lh12.\n"
   ]
  },
  {
   "cell_type": "code",
   "execution_count": 12,
   "id": "bd6063b2",
   "metadata": {},
   "outputs": [
    {
     "data": {
      "text/latex": [
       "$$ \\begin{equation}\n",
       "\\frac{\\frac{ - \\left( \\mathtt{Vpd\\_a} + \\frac{\\left( \\left( \\mathtt{Ac} + \\mathtt{As} \\right) \\Delta - \\left( \\Delta + \\gamma \\right) \\mathtt{{\\lambda}E} \\right) \\mathtt{r\\_aa}}{\\mathtt{cp} \\rho} \\right) \\mathtt{cp} \\rho}{\\mathtt{r\\_ac}} - \\mathtt{Ac} \\Delta}{\\Delta + \\left( 1 + \\frac{\\mathtt{r\\_sc}}{\\mathtt{r\\_ac}} \\right) \\gamma} + \\frac{\\frac{ - \\left( \\mathtt{Vpd\\_a} + \\frac{\\left( \\left( \\mathtt{Ac} + \\mathtt{As} \\right) \\Delta - \\left( \\Delta + \\gamma \\right) \\mathtt{{\\lambda}E} \\right) \\mathtt{r\\_aa}}{\\mathtt{cp} \\rho} \\right) \\mathtt{cp} \\rho}{\\mathtt{r\\_as}} - \\mathtt{As} \\Delta}{\\Delta + \\left( 1 + \\frac{\\mathtt{r\\_ss}}{\\mathtt{r\\_as}} \\right) \\gamma} + \\mathtt{{\\lambda}E} = 0\n",
       "\\end{equation}\n",
       " $$"
      ],
      "text/plain": [
       "((-(Vpd_a + (((Ac + As)*Δ - (Δ + γ)*λE)*r_aa) / (cp*ρ))*cp*ρ) / r_ac - Ac*Δ) / (Δ + (1 + r_sc / r_ac)*γ) + ((-(Vpd_a + (((Ac + As)*Δ - (Δ + γ)*λE)*r_aa) / (cp*ρ))*cp*ρ) / r_as - As*Δ) / (Δ + (1 + r_ss / r_as)*γ) + λE ~ 0"
      ]
     },
     "metadata": {},
     "output_type": "display_data"
    }
   ],
   "source": [
    "A = As + Ac # Total available energy\n",
    "Vpd_0 = Vpd_a + (Δ * A - (Δ + γ) * λE) * r_aa / (ρ * cp) # Vapor pressure deficit at source height, (7) of Lh12\n",
    "λE_s = (Δ * As + ρ * cp * Vpd_0 / r_as) / (Δ + γ * (1 + r_ss / r_as)) # Latent heat flux from the soil\n",
    "λE_c = (Δ * Ac + ρ * cp * Vpd_0 / r_ac) / (Δ + γ * (1 + r_sc / r_ac)) # Latent heat flux from the canopy\n",
    "equation = λE - (λE_s + λE_c) ~ 0 # Latent heat flux balance, (1) of Lh12\n",
    "display(equation)\n",
    "sol = symbolic_solve(equation, λE)\n",
    "sol[1];"
   ]
  },
  {
   "cell_type": "markdown",
   "id": "d9208db5",
   "metadata": {},
   "source": [
    "Check if the solution matches with the solution as given by equation 16 of Lh12. Note that f (folliage) replaced by c (canopy). First this reference solution is implemented below."
   ]
  },
  {
   "cell_type": "code",
   "execution_count": 13,
   "id": "b4198d19",
   "metadata": {},
   "outputs": [],
   "source": [
    "Rc = r_sc + (1 + Δ / γ) * r_ac # (20) of Lh12\n",
    "Rs = r_ss + (1 + Δ / γ) * r_as # (21) of Lh12\n",
    "Ra = (1 + Δ / γ) * r_aa # (22) of Lh12\n",
    "Ps = (r_aa * Rc) / (Rc * Rs + Ra * Rc + Rs * Ra) # (18) of Lh12\n",
    "Pc = (r_aa * Rs) / (Rc * Rs + Ra * Rc + Rs * Ra) # (19) of Lh12\n",
    "λEp = (Δ * A + ρ * cp * Vpd_a / r_aa) / (Δ + γ) # (17) of Lh12\n",
    "λE_lhomme = ((Δ + γ) / γ) * (Pc + Ps) * λEp +\n",
    "            (Δ / (γ * r_aa)) * (Pc * Ac * r_ac + Ps * As * r_as); # (16) of Lh12"
   ]
  },
  {
   "cell_type": "markdown",
   "id": "63fcc9e7",
   "metadata": {},
   "source": [
    "Now symbolically check the equality between the two solutions by subtracting the two equations from each other after simplifying them. "
   ]
  },
  {
   "cell_type": "code",
   "execution_count": 14,
   "id": "14a7c043",
   "metadata": {},
   "outputs": [
    {
     "name": "stdout",
     "output_type": "stream",
     "text": [
      "true"
     ]
    }
   ],
   "source": [
    "λE_computer_simple = simplify(sol[1])\n",
    "λE_lhomme_simple = simplify(λE_lhomme)\n",
    "print(isequal(simplify(λE_computer_simple - λE_lhomme_simple), 0))"
   ]
  },
  {
   "cell_type": "markdown",
   "id": "eca3c319",
   "metadata": {},
   "source": [
    "## Own derivation: adding interception \n",
    "\n",
    "Idea is to extend the fluxes so that from a leave, there are now 2 fluxes in parallel:\n",
    "1. Interception flux from wet fraction of the leaf ($f_{wet}$) with a zero surface resistance\n",
    "2. Evaporation flux from the dry fraction of the leaf ($1 - f_{wet}$)"
   ]
  },
  {
   "cell_type": "code",
   "execution_count": 15,
   "id": "32d079f3",
   "metadata": {},
   "outputs": [
    {
     "data": {
      "text/latex": [
       "$$ \\begin{equation}\n",
       "\\frac{ - \\left( \\frac{\\left( \\mathtt{Vpd\\_a} + \\frac{\\left( \\left( \\mathtt{Ac} + \\mathtt{As} \\right) \\Delta - \\left( \\Delta + \\gamma \\right) \\mathtt{{\\lambda}E} \\right) \\mathtt{r\\_aa}}{\\mathtt{cp} \\rho} \\right) \\mathtt{cp} \\rho}{\\mathtt{r\\_ac}} + \\mathtt{Ac} \\Delta \\right) \\mathtt{f\\_wet}}{\\Delta + \\gamma} + \\frac{\\frac{ - \\left( \\mathtt{Vpd\\_a} + \\frac{\\left( \\left( \\mathtt{Ac} + \\mathtt{As} \\right) \\Delta - \\left( \\Delta + \\gamma \\right) \\mathtt{{\\lambda}E} \\right) \\mathtt{r\\_aa}}{\\mathtt{cp} \\rho} \\right) \\mathtt{cp} \\rho}{\\mathtt{r\\_as}} - \\mathtt{As} \\Delta}{\\Delta + \\left( 1 + \\frac{\\mathtt{r\\_ss}}{\\mathtt{r\\_as}} \\right) \\gamma} + \\frac{ - \\left( \\frac{\\left( \\mathtt{Vpd\\_a} + \\frac{\\left( \\left( \\mathtt{Ac} + \\mathtt{As} \\right) \\Delta - \\left( \\Delta + \\gamma \\right) \\mathtt{{\\lambda}E} \\right) \\mathtt{r\\_aa}}{\\mathtt{cp} \\rho} \\right) \\mathtt{cp} \\rho}{\\mathtt{r\\_ac}} + \\mathtt{Ac} \\Delta \\right) \\left( 1 - \\mathtt{f\\_wet} \\right)}{\\Delta + \\left( 1 + \\frac{\\mathtt{r\\_sc}}{\\mathtt{r\\_ac}} \\right) \\gamma} + \\mathtt{{\\lambda}E} = 0\n",
       "\\end{equation}\n",
       " $$"
      ],
      "text/plain": [
       "(-(((Vpd_a + (((Ac + As)*Δ - (Δ + γ)*λE)*r_aa) / (cp*ρ))*cp*ρ) / r_ac + Ac*Δ)*f_wet) / (Δ + γ) + ((-(Vpd_a + (((Ac + As)*Δ - (Δ + γ)*λE)*r_aa) / (cp*ρ))*cp*ρ) / r_as - As*Δ) / (Δ + (1 + r_ss / r_as)*γ) + (-(((Vpd_a + (((Ac + As)*Δ - (Δ + γ)*λE)*r_aa) / (cp*ρ))*cp*ρ) / r_ac + Ac*Δ)*(1 - f_wet)) / (Δ + (1 + r_sc / r_ac)*γ) + λE ~ 0"
      ]
     },
     "metadata": {},
     "output_type": "display_data"
    }
   ],
   "source": [
    "λE_t = (1 - f_wet) * (Δ * Ac + ρ * cp * Vpd_0 / r_ac) / (Δ + γ * (1 + r_sc / r_ac))\n",
    "λE_i = f_wet * (Δ * Ac + ρ * cp * Vpd_0 / r_ac) / (Δ + γ)\n",
    "equation_interception = λE - (λE_t + λE_i + λE_s) ~ 0\n",
    "display(equation_interception)\n",
    "sol_interception = symbolic_solve(equation_interception, λE);"
   ]
  },
  {
   "cell_type": "markdown",
   "id": "9a0f035f",
   "metadata": {},
   "source": [
    "Below the solution from the manual derivation is given."
   ]
  },
  {
   "cell_type": "code",
   "execution_count": 16,
   "id": "a57b9f07",
   "metadata": {},
   "outputs": [],
   "source": [
    "Ri = (1 + Δ / γ) * r_ac # In analogy to (20) - (22) of Lh12\n",
    "X = Rc * Ri + (1 - f_wet) * Rs * Ri + f_wet * Rs * Rc\n",
    "DE = Rs * Rc * Ri + Ra * X\n",
    "λE_check = (X * r_aa / DE) * ((Δ + γ) / γ) * λEp +\n",
    "           (Δ / γ) * ((Rc * Ri * As * r_as + r_ac * Ac * ((1 - f_wet) * Rs * Ri + f_wet * Rc * Rs)) / DE);"
   ]
  },
  {
   "cell_type": "markdown",
   "id": "210d1777",
   "metadata": {},
   "source": [
    "As above, the solution obtained by the computer algebra system will be compared with the solution obtained by hand. "
   ]
  },
  {
   "cell_type": "code",
   "execution_count": 17,
   "id": "6de6e0c1",
   "metadata": {},
   "outputs": [
    {
     "name": "stdout",
     "output_type": "stream",
     "text": [
      "true"
     ]
    }
   ],
   "source": [
    "λE_check_simple = simplify(λE_check)\n",
    "λE_interception_simple = simplify(sol_interception[1])\n",
    "print(isequal(simplify(λE_check_simple - λE_interception_simple), 0))"
   ]
  },
  {
   "cell_type": "markdown",
   "id": "7aa55d41",
   "metadata": {},
   "source": [
    "There is also a different approach to solve the problem by hand, where the $R_c$ value as defined in (20) of Lh12 is adapted for the current case (denoted as $R_c^*$). Once this is defined, we can use the same equations as in the reference case (Section 2.2 of Lh12)."
   ]
  },
  {
   "cell_type": "code",
   "execution_count": 18,
   "id": "cee62be7",
   "metadata": {},
   "outputs": [
    {
     "name": "stdout",
     "output_type": "stream",
     "text": [
      "true"
     ]
    }
   ],
   "source": [
    "Rcstar = ((1 - f_wet) / Rc + f_wet / Ri)^-1\n",
    "Psstar = simplify((r_aa * Rcstar) / (Rcstar * Rs + Ra * Rcstar + Rs * Ra)) # Analogous to (18) of Lh12\n",
    "Pcstar = simplify((r_aa * Rs) / (Rcstar * Rs + Ra * Rcstar + Rs * Ra)) # Analogous to (19) of Lh12\n",
    "λE_check_alt = simplify(((Δ + γ) / γ) * (Pcstar + Psstar) * λEp) +\n",
    "               simplify((Δ / (γ * r_aa)) * (Pcstar * Ac * r_ac + Psstar * As * r_as)) # Analogous to (16) of Lh12\n",
    "λE_check_alt_simple = simplify(λE_check_alt)\n",
    "print(isequal(simplify(λE_interception_simple - λE_check_alt_simple), 0))"
   ]
  }
 ],
 "metadata": {
  "kernelspec": {
   "display_name": "Julia 1.10.9",
   "language": "julia",
   "name": "julia-1.10"
  },
  "language_info": {
   "file_extension": ".jl",
   "mimetype": "application/julia",
   "name": "julia",
   "version": "1.10.9"
  }
 },
 "nbformat": 4,
 "nbformat_minor": 5
}
