{
 "cells": [
  {
   "cell_type": "code",
   "execution_count": 21,
   "id": "23338bcc",
   "metadata": {},
   "outputs": [],
   "source": [
    "using DrWatson\n",
    "@quickactivate \"DifferentiableEvaporation\"\n",
    "using Symbolics"
   ]
  },
  {
   "cell_type": "markdown",
   "id": "58c3118d",
   "metadata": {},
   "source": [
    "The goal of the current notebook is to extend upon the derivations of a series network from:\n",
    "\n",
    "- \"Evaporation from sparse crops-an energy combination theory\" by [Shuttleworth and Wallace (1985)](https://doi.org/10.1002/qj.49711146910) (S&W85)\n",
    "- \"Evaporation from Heterogeneous and Sparse Canopies: On the Formulations Related to Multi-Source Representations\" by [Lhomme et al. (2012)](https://doi.org/10.1007/s10546-012-9713-x) (Lh12)\n",
    "\n",
    "Start by defining the different variables\n"
   ]
  },
  {
   "cell_type": "code",
   "execution_count": 22,
   "id": "d2c87549",
   "metadata": {},
   "outputs": [
    {
     "data": {
      "text/latex": [
       "$$ \\begin{equation}\n",
       "\\left[\n",
       "\\begin{array}{c}\n",
       "As \\\\\n",
       "Ac \\\\\n",
       "\\rho \\\\\n",
       "cp \\\\\n",
       "Vpd_{a} \\\\\n",
       "\\gamma \\\\\n",
       "\\Delta \\\\\n",
       "r_{aa} \\\\\n",
       "r_{ac} \\\\\n",
       "r_{as} \\\\\n",
       "r_{ss} \\\\\n",
       "r_{sc} \\\\\n",
       "{\\lambda}E \\\\\n",
       "Ra \\\\\n",
       "Rs \\\\\n",
       "Rc \\\\\n",
       "f_{wet} \\\\\n",
       "\\end{array}\n",
       "\\right]\n",
       "\\end{equation}\n",
       " $$"
      ],
      "text/plain": [
       "17-element Vector{Num}:\n",
       "    As\n",
       "    Ac\n",
       "     ρ\n",
       "    cp\n",
       " Vpd_a\n",
       "     γ\n",
       "     Δ\n",
       "  r_aa\n",
       "  r_ac\n",
       "  r_as\n",
       "  r_ss\n",
       "  r_sc\n",
       "     λE\n",
       "    Ra\n",
       "    Rs\n",
       "    Rc\n",
       "      f_wet"
      ]
     },
     "metadata": {},
     "output_type": "display_data"
    }
   ],
   "source": [
    "@variables begin\n",
    "    As # Available energy at the surface (soil) (W/m²)\n",
    "    Ac # Available energy at the canopy (W/m²)\n",
    "    ρ # Density of air (kg/m³)\n",
    "    cp # Specific heat of air (J/kg/K)\n",
    "    Vpd_a # Vapor pressure deficit (Pa) at observation height\n",
    "    γ # Psychrometric constant (Pa/K)\n",
    "    Δ # Slope of the saturation vapor pressure curve (Pa/K) \n",
    "    r_aa # Aerodynamic resistance (s/m) between source height and observation height\n",
    "    r_ac # Aerodynamic resistance (s/m) between canopy and source height\n",
    "    r_as # Aerodynamic resistance (s/m) between soil and source height\n",
    "    r_ss # Surface resistance (s/m) of soil\n",
    "    r_sc # Surface resistance (s/m) of canopy\n",
    "    λE # Latent heat flux from the complete canopy (W/m²)\n",
    "    Ra\n",
    "    Rs\n",
    "    Rc\n",
    "    f_wet # Fraction of canopy that is wet\n",
    "end"
   ]
  },
  {
   "cell_type": "markdown",
   "id": "d13a7abf",
   "metadata": {},
   "source": [
    "## Reference case from Lhomme et al. (2012)\n",
    "\n",
    "Let's symbolically solve the equations governing the standard case of a two source model, as depicted in Figure 1 of Lh12.\n"
   ]
  },
  {
   "cell_type": "code",
   "execution_count": 23,
   "id": "bd6063b2",
   "metadata": {},
   "outputs": [
    {
     "ename": "UndefVarError",
     "evalue": "UndefVarError: `symbolic_solve` not defined",
     "output_type": "error",
     "traceback": [
      "UndefVarError: `symbolic_solve` not defined\n",
      "\n",
      "Stacktrace:\n",
      " [1] top-level scope\n",
      "   @ c:\\Users\\obonte\\Documents\\DifferentiableEvaporation\\notebooks\\jl_notebook_cell_df34fa98e69747e1a8f8a730347b8e2f_W6sZmlsZQ==.jl:6"
     ]
    }
   ],
   "source": [
    "A = As + Ac\n",
    "Vpd_0 = Vpd_a + (Δ * A - (Δ + γ) * λE) * r_aa / (ρ * cp)\n",
    "λE_s = (Δ * As + ρ * cp * Vpd_0 / r_as) / (Δ + γ * (1 + r_ss / r_as))\n",
    "λE_c = (Δ * Ac + ρ * cp * Vpd_0 / r_ac) / (Δ + γ * (1 + r_sc / r_ac))\n",
    "equation = λE - (λE_s + λE_c) ~ 0\n",
    "sol = symbolic_solve(equation, λE)"
   ]
  },
  {
   "cell_type": "markdown",
   "id": "7894cc66",
   "metadata": {},
   "source": []
  },
  {
   "cell_type": "code",
   "execution_count": null,
   "id": "6956b3c5-5ff9-4eee-a40b-e6ade89f5508",
   "metadata": {},
   "outputs": [],
   "source": []
  }
 ],
 "metadata": {
  "kernelspec": {
   "display_name": "Julia 1.10.7",
   "language": "julia",
   "name": "julia-1.10"
  },
  "language_info": {
   "file_extension": ".jl",
   "mimetype": "application/julia",
   "name": "julia",
   "version": "1.10.7"
  }
 },
 "nbformat": 4,
 "nbformat_minor": 5
}
